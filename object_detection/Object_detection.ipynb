{
  "nbformat": 4,
  "nbformat_minor": 0,
  "metadata": {
    "colab": {
      "provenance": [],
      "authorship_tag": "ABX9TyOO1fHwqb7bHJy5a5q/ka6L",
      "include_colab_link": true
    },
    "kernelspec": {
      "name": "python3",
      "display_name": "Python 3"
    },
    "language_info": {
      "name": "python"
    }
  },
  "cells": [
    {
      "cell_type": "markdown",
      "metadata": {
        "id": "view-in-github",
        "colab_type": "text"
      },
      "source": [
        "<a href=\"https://colab.research.google.com/github/NOVA0206/AI_ML_Projects/blob/main/object_detection/Object_detection.ipynb\" target=\"_parent\"><img src=\"https://colab.research.google.com/assets/colab-badge.svg\" alt=\"Open In Colab\"/></a>"
      ]
    },
    {
      "cell_type": "code",
      "execution_count": 1,
      "metadata": {
        "colab": {
          "base_uri": "https://localhost:8080/"
        },
        "id": "dvC5Xfr5ns-d",
        "outputId": "76049754-8fe4-40d2-8b20-191a629a3d80"
      },
      "outputs": [
        {
          "output_type": "stream",
          "name": "stderr",
          "text": [
            "/usr/local/lib/python3.10/dist-packages/torchvision/models/_utils.py:208: UserWarning: The parameter 'pretrained' is deprecated since 0.13 and may be removed in the future, please use 'weights' instead.\n",
            "  warnings.warn(\n",
            "/usr/local/lib/python3.10/dist-packages/torchvision/models/_utils.py:223: UserWarning: Arguments other than a weight enum or `None` for 'weights' are deprecated since 0.13 and may be removed in the future. The current behavior is equivalent to passing `weights=FasterRCNN_ResNet50_FPN_Weights.COCO_V1`. You can also use `weights=FasterRCNN_ResNet50_FPN_Weights.DEFAULT` to get the most up-to-date weights.\n",
            "  warnings.warn(msg)\n",
            "Downloading: \"https://download.pytorch.org/models/fasterrcnn_resnet50_fpn_coco-258fb6c6.pth\" to /root/.cache/torch/hub/checkpoints/fasterrcnn_resnet50_fpn_coco-258fb6c6.pth\n",
            "100%|██████████| 160M/160M [00:01<00:00, 132MB/s]\n"
          ]
        },
        {
          "output_type": "stream",
          "name": "stdout",
          "text": [
            "Object: person, Confidence: 0.9984, Box: [ 74.55069 173.28519 755.4424  784.9962 ]\n",
            "Object: person, Confidence: 0.9968, Box: [ 472.30124  182.54639 1112.371    795.9218 ]\n"
          ]
        }
      ],
      "source": [
        "import torch\n",
        "import torchvision.transforms as T\n",
        "from torchvision.models.detection import fasterrcnn_resnet50_fpn\n",
        "from PIL import Image\n",
        "\n",
        "# Load the pre-trained model\n",
        "model = fasterrcnn_resnet50_fpn(pretrained=True)\n",
        "model.eval()\n",
        "\n",
        "# Image transformation. You typically don't need additional normalization for the Faster R-CNN model as used here.\n",
        "transform = T.Compose([T.ToTensor()])\n",
        "\n",
        "# Mock-up for demonstration. Please replace with actual COCO labels for comprehensive use.\n",
        "CocoNames = {\n",
        "    1: \"person\", 2: \"bicycle\", 3: \"car\",  # Continuing with actual indices might be required\n",
        "    # Add more as per the actual COCO dataset labels.\n",
        "}\n",
        "\n",
        "def detect_objects(image_path):\n",
        "    img = Image.open(image_path).convert(\"RGB\")  # Ensure image is RGB\n",
        "    img = transform(img)\n",
        "\n",
        "    with torch.no_grad():\n",
        "        prediction = model([img])\n",
        "\n",
        "    # prediction is a list of dictionaries\n",
        "    for element in range(len(prediction[0]['boxes'])):\n",
        "        boxes = prediction[0]['boxes'][element].numpy()\n",
        "        label_idx = prediction[0]['labels'][element].item()\n",
        "        label = CocoNames.get(label_idx, f\"Label {label_idx}\")  # Get label name from CocoNames, or use the Label index\n",
        "        score = prediction[0]['scores'][element].item()\n",
        "\n",
        "        if score > 0.5:  # Confidence threshold\n",
        "            print(f\"Object: {label}, Confidence: {score:.4f}, Box: {boxes}\")\n",
        "\n",
        "# Provide the path to an image\n",
        "image_path = '/content/roko.png'\n",
        "detect_objects(image_path)"
      ]
    }
  ]
}