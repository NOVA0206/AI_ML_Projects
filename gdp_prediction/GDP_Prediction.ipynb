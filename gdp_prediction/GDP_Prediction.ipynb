{
  "nbformat": 4,
  "nbformat_minor": 0,
  "metadata": {
    "colab": {
      "provenance": [],
      "authorship_tag": "ABX9TyMoq+W+MYZcF8W/C0bsdRFp",
      "include_colab_link": true
    },
    "kernelspec": {
      "name": "python3",
      "display_name": "Python 3"
    },
    "language_info": {
      "name": "python"
    }
  },
  "cells": [
    {
      "cell_type": "markdown",
      "metadata": {
        "id": "view-in-github",
        "colab_type": "text"
      },
      "source": [
        "<a href=\"https://colab.research.google.com/github/NOVA0206/AI_ML_Projects/blob/main/gdp_prediction/GDP_Prediction.ipynb\" target=\"_parent\"><img src=\"https://colab.research.google.com/assets/colab-badge.svg\" alt=\"Open In Colab\"/></a>"
      ]
    },
    {
      "cell_type": "code",
      "execution_count": 2,
      "metadata": {
        "colab": {
          "base_uri": "https://localhost:8080/"
        },
        "id": "6s7-T-4CpTZ5",
        "outputId": "13b674ca-6076-4110-cce5-685afb4c8425"
      },
      "outputs": [
        {
          "output_type": "stream",
          "name": "stdout",
          "text": [
            "Enter the start year: 2000\n",
            "Enter the end year: 2024\n",
            "Dataset saved as 'gdp_data.csv'\n",
            "\n",
            "Data Preview:\n",
            "   Year        GDP  Inflation Rate  Unemployment Rate  Stock Index  \\\n",
            "0  2000  23.473494        0.992831           6.441366  2530.260071   \n",
            "1  2001   7.874805        2.444110           3.350016  2116.768820   \n",
            "2  2002  27.504613        2.434216           7.575462  3011.354576   \n",
            "3  2003  25.051235        2.474685           9.730347  3242.111293   \n",
            "4  2004   6.903322        0.447307           7.854164  3561.909103   \n",
            "\n",
            "   Interest Rate  Government Expenditure      Exports      Imports  \\\n",
            "0       5.403924             4719.821130  1764.228174  1829.970362   \n",
            "1       4.430536             4308.209075  1171.237258  1648.806421   \n",
            "2       6.179329             4073.455159  2445.564892  1656.783900   \n",
            "3       4.891471             4878.379972  1689.291295  1866.667207   \n",
            "4       3.466280             4227.824845  1811.108883  2487.169471   \n",
            "\n",
            "   Population Growth Rate  Consumer Confidence Index  \n",
            "0                2.482153                  83.821900  \n",
            "1                1.969212                 105.686868  \n",
            "2                2.425919                  89.767962  \n",
            "3                2.826991                  80.479738  \n",
            "4                1.974825                 117.537631  \n",
            "\n",
            "Model trained successfully.\n",
            "\n",
            "Enter a year to predict GDP (or enter 0 to exit): 2016\n",
            "Predicted GDP for year 2016: 22.278623773465227\n",
            "\n",
            "Enter a year to predict GDP (or enter 0 to exit): 2020\n",
            "Predicted GDP for year 2020: 20.77626141975241\n",
            "\n",
            "Enter a year to predict GDP (or enter 0 to exit): 2009\n",
            "Predicted GDP for year 2009: 17.21003051784723\n",
            "\n",
            "Enter a year to predict GDP (or enter 0 to exit): 2014\n",
            "Predicted GDP for year 2014: 20.521389680483548\n",
            "\n",
            "Enter a year to predict GDP (or enter 0 to exit): 2013\n",
            "Predicted GDP for year 2013: 17.583505454966815\n",
            "\n",
            "Enter a year to predict GDP (or enter 0 to exit): 2005\n",
            "Predicted GDP for year 2005: 18.570344732648607\n",
            "\n",
            "Enter a year to predict GDP (or enter 0 to exit): 0\n",
            "Exiting program.\n"
          ]
        }
      ],
      "source": [
        "import pandas as pd\n",
        "import numpy as np\n",
        "import matplotlib.pyplot as plt\n",
        "from sklearn.model_selection import train_test_split\n",
        "from sklearn.preprocessing import StandardScaler\n",
        "from sklearn.ensemble import RandomForestRegressor\n",
        "from sklearn.metrics import mean_squared_error, r2_score\n",
        "\n",
        "def generate_synthetic_gdp(start_year, end_year):\n",
        "    years = list(range(start_year, end_year + 1))\n",
        "    gdp_values = np.random.normal(loc=20, scale=5, size=len(years))  # Generating random GDP values\n",
        "    inflation_rate = np.random.uniform(low=0, high=5, size=len(years))\n",
        "    unemployment_rate = np.random.uniform(low=3, high=10, size=len(years))\n",
        "    stock_index = np.random.normal(loc=3000, scale=500, size=len(years))\n",
        "    interest_rate = np.random.uniform(low=2, high=8, size=len(years))\n",
        "    govt_expenditure = np.random.normal(loc=5000, scale=1000, size=len(years))\n",
        "    exports = np.random.normal(loc=2000, scale=500, size=len(years))\n",
        "    imports = np.random.normal(loc=1800, scale=400, size=len(years))\n",
        "    population_growth_rate = np.random.uniform(low=0, high=3, size=len(years))\n",
        "    consumer_confidence_index = np.random.uniform(low=80, high=120, size=len(years))\n",
        "\n",
        "    gdp_data = pd.DataFrame({\n",
        "        'Year': years,\n",
        "        'GDP': gdp_values,\n",
        "        'Inflation Rate': inflation_rate,\n",
        "        'Unemployment Rate': unemployment_rate,\n",
        "        'Stock Index': stock_index,\n",
        "        'Interest Rate': interest_rate,\n",
        "        'Government Expenditure': govt_expenditure,\n",
        "        'Exports': exports,\n",
        "        'Imports': imports,\n",
        "        'Population Growth Rate': population_growth_rate,\n",
        "        'Consumer Confidence Index': consumer_confidence_index\n",
        "    })\n",
        "\n",
        "    gdp_data.to_csv('gdp_data.csv', index=False)\n",
        "    return gdp_data\n",
        "\n",
        "def train_model(gdp_data):\n",
        "    X = gdp_data.drop(['Year', 'GDP'], axis=1)\n",
        "    y = gdp_data['GDP']\n",
        "    X_train, X_test, y_train, y_test = train_test_split(X, y, test_size=0.2, random_state=42)\n",
        "    scaler = StandardScaler()\n",
        "    X_train_scaled = scaler.fit_transform(X_train)\n",
        "    X_test_scaled = scaler.transform(X_test)\n",
        "    rf_regressor = RandomForestRegressor(n_estimators=100, random_state=42)\n",
        "    rf_regressor.fit(X_train_scaled, y_train)\n",
        "    return rf_regressor, scaler, X_train_scaled, X_test_scaled, y_train, y_test\n",
        "\n",
        "def main():\n",
        "    start_year = int(input(\"Enter the start year: \"))\n",
        "    end_year = int(input(\"Enter the end year: \"))\n",
        "    gdp_data = generate_synthetic_gdp(start_year, end_year)\n",
        "    print(\"Dataset saved as 'gdp_data.csv'\")\n",
        "\n",
        "    print(\"\\nData Preview:\")\n",
        "    print(gdp_data.head())\n",
        "\n",
        "    rf_regressor, scaler, X_train_scaled, X_test_scaled, y_train, y_test = train_model(gdp_data)\n",
        "\n",
        "    print(\"\\nModel trained successfully.\")\n",
        "\n",
        "    while True:\n",
        "        try:\n",
        "            year = int(input(\"\\nEnter a year to predict GDP (or enter 0 to exit): \"))\n",
        "            if year == 0:\n",
        "                print(\"Exiting program.\")\n",
        "                break\n",
        "            elif year < start_year or year > end_year:\n",
        "                print(\"Year must be within the range of data.\")\n",
        "                continue\n",
        "            else:\n",
        "                features = gdp_data.loc[gdp_data['Year'] == year].drop(['Year', 'GDP'], axis=1)\n",
        "                year_scaled = scaler.transform(features)\n",
        "                predicted_gdp = rf_regressor.predict(year_scaled)\n",
        "                print(f\"Predicted GDP for year {year}: {predicted_gdp[0]}\")\n",
        "        except ValueError:\n",
        "            print(\"Invalid input. Please enter a valid year.\")\n",
        "\n",
        "if __name__ == \"__main__\":\n",
        "    main()"
      ]
    },
    {
      "cell_type": "code",
      "source": [],
      "metadata": {
        "id": "aotJ6dsTpe0h"
      },
      "execution_count": null,
      "outputs": []
    }
  ]
}